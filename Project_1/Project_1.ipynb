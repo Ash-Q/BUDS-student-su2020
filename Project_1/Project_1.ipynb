{
 "cells": [
  {
   "cell_type": "code",
   "execution_count": null,
   "metadata": {
    "collapsed": true
   },
   "outputs": [],
   "source": [
    "import pandas as pd\n",
    "import numpy as np\n",
    "from datascience import *\n",
    "from datascience import Table\n",
    "import matplotlib\n",
    "from ipywidgets import interact, Dropdown\n",
    "\n",
    "\n",
    "%matplotlib inline\n",
    "import matplotlib.pyplot as plt\n",
    "import numpy as np\n",
    "plt.style.use('fivethirtyeight')"
   ]
  },
  {
   "cell_type": "markdown",
   "metadata": {},
   "source": [
    "Uncomment this line of code and run it!!\n"
   ]
  },
  {
   "cell_type": "code",
   "execution_count": null,
   "metadata": {
    "collapsed": true
   },
   "outputs": [],
   "source": [
    "# Table.interactive_plots()"
   ]
  },
  {
   "cell_type": "markdown",
   "metadata": {},
   "source": [
    "# Project 1: Covid-19 and Exponential Growth"
   ]
  },
  {
   "cell_type": "markdown",
   "metadata": {},
   "source": [
    "## Table of Contents\n",
    "<a href='#section 0'>Background Knowledge: Spread of Disease</a>\n",
    "\n",
    "1.  <a href='#section 1'> The Data Science Life Cycle</a>\n",
    "\n",
    "    a. <a href='#subsection 1a'>Formulating a question or problem</a> \n",
    "\n",
    "    b. <a href='#subsection 1b'>Acquiring and cleaning data</a>\n",
    "\n",
    "    c. <a href='#subsection 1c'>Conducting exploratory data analysis</a>\n",
    "\n",
    "    d. <a href='#subsection 1d'>Using prediction and inference to draw conclusions</a>\n",
    "<br><br>"
   ]
  },
  {
   "cell_type": "markdown",
   "metadata": {},
   "source": [
    "### Background Knowledge <a id='section 0'></a>\n"
   ]
  },
  {
   "cell_type": "markdown",
   "metadata": {},
   "source": [
    "Materials come from worksheet that can be found [here](https://www.quantamagazine.org/flu-vaccines-and-the-math-of-herd-immunity-20180205/).\n",
    "\n",
    "Exponential growth describes a quantity that's changing by some constant factor for every unit of time. For example, a value that is doubling every month is exponential growth. Let's look at this will a rumor. If you hear a rumor and only tell 1 other person each day, then only 11 people will know after 10 days. Now, telling 2 new people may not seem like that much of a difference, but it will end up reaching 1024 people in those 10 day instead of 11. This is exponential growth.\n",
    "<img src=\"images/rumor_img.png\" width = 500/>\n",
    "\n",
    "For diseases, different infections spread through populations at different rates. The \"basic reproductive number\", or R0, is the number of people each infected person is expected to infect if no one has been vaccinated. Keep in mind that this number is an average so each person won't necessarily infect exactly 2 other people if the R0 is 2, but it describes the liklihood of spreading.\n",
    "<img src=\"images/linear_v_exp.png\" width = 500/>\n"
   ]
  },
  {
   "cell_type": "markdown",
   "metadata": {},
   "source": [
    "<img src=\"images/r0.png\" width = 700/>"
   ]
  },
  {
   "cell_type": "markdown",
   "metadata": {},
   "source": [
    "#### Practice questions"
   ]
  },
  {
   "cell_type": "markdown",
   "metadata": {},
   "source": [
    "1. If a disease has an R0 of 4, and 100 people come into contact with an infected individual on average, what is the probability that any one friend becomes infected? Hint: look at the middle diagram above."
   ]
  },
  {
   "cell_type": "markdown",
   "metadata": {},
   "source": [
    "*Insert your answer here, replacing this text.*"
   ]
  },
  {
   "cell_type": "markdown",
   "metadata": {},
   "source": [
    "2. How many of the 100 friends would need to be vaccinated to bring the R0 down to 1? (a linear rate instead of an exponential rate)"
   ]
  },
  {
   "cell_type": "markdown",
   "metadata": {},
   "source": [
    "*Insert your answer here, replacing this text.*"
   ]
  },
  {
   "cell_type": "markdown",
   "metadata": {},
   "source": [
    "# The Data Science Life Cycle <a id='section 1'></a>"
   ]
  },
  {
   "cell_type": "markdown",
   "metadata": {},
   "source": [
    "## Formulating a question or problem <a id='subsection 1a'></a>\n",
    "It is important to ask questions that will be informative and that will avoid misleading results. There are many different questions we could ask about Covid-19, for example, many researchers use data to predict the outcomes based on intervention techniques such as social distancing."
   ]
  },
  {
   "cell_type": "markdown",
   "metadata": {},
   "source": [
    "<div class=\"alert alert-warning\">\n",
    "<b>Question:</b> Take some time to formulate questions you have about this pandemic and the data you would need to answer the questions. In addition, add the link of an article you found interesting with a description an why it interested you. \n",
    "   </div>\n",
    "   \n",
    "You can find [resources](https://docs.google.com/document/d/1yGSQkqlkroF6Efj3mHvP4sbQXyZM9ddO43YV1FQ75uQ/edit?usp=sharing) here to choose from."
   ]
  },
  {
   "cell_type": "markdown",
   "metadata": {},
   "source": [
    "Your questions: *here*\n",
    "\n",
    "\n",
    "Data you would need: *here*\n",
    "\n",
    "\n",
    "Article: *link*"
   ]
  },
  {
   "cell_type": "markdown",
   "metadata": {},
   "source": [
    "## Acquiring and cleaning data <a id='subsection 1b'></a>\n",
    "\n",
    "We'll be looking at the COVID-19 Data Repository from Johns Hopkins University. You can find the raw data [here](https://github.com/CSSEGISandData/COVID-19). We've cleaned up the datasets a bit, but we will be investigating the number of confirmed cases and the number of new cases in the United States from March to June.\n",
    "\n",
    "The following table, `confirmed_cases`, contains the number of confirmed cases at the start of each month for every county in the United States."
   ]
  },
  {
   "cell_type": "code",
   "execution_count": null,
   "metadata": {
    "scrolled": false
   },
   "outputs": [],
   "source": [
    "confirmed_cases = Table().read_table(\"data/covid_by_county.csv\").drop(3)\n",
    "confirmed_cases.show(10)"
   ]
  },
  {
   "cell_type": "code",
   "execution_count": null,
   "metadata": {},
   "outputs": [],
   "source": [
    "#In this cell, we are relabeling the columns to have the names of \n",
    "#the months instead of the dates the number of cases were collected.\n",
    "\n",
    "confirmed_cases_clean = confirmed_cases.relabel(make_array(\"4/1/2020\", \"5/1/2020\", \"6/1/2020\"), make_array(\"April\", \"May\", \"June\"))\n",
    "confirmed_cases_clean"
   ]
  },
  {
   "cell_type": "markdown",
   "metadata": {},
   "source": [
    "<div class=\"alert alert-warning\">\n",
    "<b>Question:</b> It's important to evalute our data source. What do you know about Johns Hopkins University? What motivations do they have for collecting this data? What data is missing?\n",
    "   </div>"
   ]
  },
  {
   "cell_type": "markdown",
   "metadata": {},
   "source": [
    "*Insert answer*"
   ]
  },
  {
   "cell_type": "markdown",
   "metadata": {},
   "source": [
    "<div class=\"alert alert-warning\">\n",
    "<b>Question:</b> Do you see any missing (nan) values? Why might they be there?\n",
    "   </div>"
   ]
  },
  {
   "cell_type": "markdown",
   "metadata": {},
   "source": [
    "*Insert answer here*"
   ]
  },
  {
   "cell_type": "markdown",
   "metadata": {},
   "source": [
    "<div class=\"alert alert-warning\">\n",
    "<b>Question:</b> We want to learn more about the dataset. First, how many total rows are in this table? What does each row represent?\n",
    "    \n",
    "   </div>"
   ]
  },
  {
   "cell_type": "code",
   "execution_count": null,
   "metadata": {
    "collapsed": true
   },
   "outputs": [],
   "source": [
    "total_rows = ..."
   ]
  },
  {
   "cell_type": "markdown",
   "metadata": {},
   "source": [
    "*Insert answer here*"
   ]
  },
  {
   "cell_type": "markdown",
   "metadata": {},
   "source": [
    "## Conducting exploratory data analysis <a id='subsection 1c'></a>"
   ]
  },
  {
   "cell_type": "markdown",
   "metadata": {},
   "source": [
    "Visualizations help us to understand what the dataset is telling us. Compare the county with the most confirmed cases on April 1st with the next 9 most confirmed cases in a bar chart. "
   ]
  },
  {
   "cell_type": "markdown",
   "metadata": {},
   "source": [
    "### Part 1"
   ]
  },
  {
   "cell_type": "markdown",
   "metadata": {},
   "source": [
    "<div class=\"alert alert-warning\">\n",
    "<b>Question:</b> First, sort the dataset to show the counties with the most cases on April 1st at the top of the table.\n",
    "   </div>"
   ]
  },
  {
   "cell_type": "code",
   "execution_count": null,
   "metadata": {
    "collapsed": true
   },
   "outputs": [],
   "source": [
    "sorted_cases = confirmed_cases_clean.sort(\"...\", descending = ...)\n",
    "sorted_cases"
   ]
  },
  {
   "cell_type": "markdown",
   "metadata": {},
   "source": [
    "<div class=\"alert alert-warning\">\n",
    "<b>Question:</b> Now, cut down the table to only have the top ten from sorted_cases above.\n",
    "   </div>"
   ]
  },
  {
   "cell_type": "code",
   "execution_count": null,
   "metadata": {
    "collapsed": true
   },
   "outputs": [],
   "source": [
    "top_ten = sorted_cases....(np.arange(10))"
   ]
  },
  {
   "cell_type": "markdown",
   "metadata": {},
   "source": [
    "<div class=\"alert alert-warning\">\n",
    "<b>Question:</b> Next, create a bar chart to visualize the comparison between the top_ten counties for the number of cases on April 1st.\n",
    "   </div>"
   ]
  },
  {
   "cell_type": "code",
   "execution_count": null,
   "metadata": {
    "collapsed": true,
    "scrolled": true
   },
   "outputs": [],
   "source": [
    "top_ten..."
   ]
  },
  {
   "cell_type": "markdown",
   "metadata": {},
   "source": [
    "<div class=\"alert alert-warning\">\n",
    "<b>Question:</b> Let's look at the counties in California. First, return a table that only has the California counties. Then, select the counties from the table you want to compare to each other. \n",
    "   </div>"
   ]
  },
  {
   "cell_type": "code",
   "execution_count": null,
   "metadata": {
    "collapsed": true
   },
   "outputs": [],
   "source": [
    "ca_cases = confirmed_cases.where(\"...\", are.equal_to(\"...\"))\n",
    "ca_cases"
   ]
  },
  {
   "cell_type": "code",
   "execution_count": null,
   "metadata": {},
   "outputs": [],
   "source": [
    "select_counties = [\"Los Angeles\", \"Sacramento\", \"...\", \"...\", \"...\"]\n",
    "\n",
    "# This will take the counties you choose for the comparison.\n",
    "my_counties = ca_cases.where(\"County\", are.contained_in(select_counties))\n",
    "my_counties"
   ]
  },
  {
   "cell_type": "markdown",
   "metadata": {},
   "source": [
    "<div class=\"alert alert-warning\">\n",
    "<b>Question:</b> Now make another bar chart using your selected counties and the number of cases on May 1st.\n",
    "   </div>"
   ]
  },
  {
   "cell_type": "code",
   "execution_count": null,
   "metadata": {},
   "outputs": [],
   "source": [
    "..."
   ]
  },
  {
   "cell_type": "markdown",
   "metadata": {},
   "source": [
    "<div class=\"alert alert-warning\">\n",
    "<b>Question:</b> What are some possible reasons for the disparities in certain counties? Hint: Think about the size of the counties.\n",
    "   </div>"
   ]
  },
  {
   "cell_type": "markdown",
   "metadata": {},
   "source": [
    "*Insert answer here.*"
   ]
  },
  {
   "cell_type": "markdown",
   "metadata": {},
   "source": [
    "### Part 2"
   ]
  },
  {
   "cell_type": "markdown",
   "metadata": {},
   "source": [
    "A disease will spread more when there are more people in a population to spread to. Let's look at the population of the states to compare the percentages based on the number of people. Here is a table with the states and their populations. "
   ]
  },
  {
   "cell_type": "code",
   "execution_count": null,
   "metadata": {
    "scrolled": true
   },
   "outputs": [],
   "source": [
    "pop_by_state = Table().read_table(\"data/pop_by_state.csv\")\n",
    "pop_by_state"
   ]
  },
  {
   "cell_type": "markdown",
   "metadata": {},
   "source": [
    "<div class=\"alert alert-warning\">\n",
    "<b>Question:</b> First, group the confirmed cases to show the number of cases for each state and the sum of the cases.\n",
    "   </div>"
   ]
  },
  {
   "cell_type": "code",
   "execution_count": null,
   "metadata": {
    "scrolled": true
   },
   "outputs": [],
   "source": [
    "# We are grouping all the counties into their states and taking the sum of the cases using this code.\n",
    "grouped_by_state = confirmed_cases.group(\"State\", sum)\n",
    "grouped_by_state"
   ]
  },
  {
   "cell_type": "code",
   "execution_count": null,
   "metadata": {
    "scrolled": true
   },
   "outputs": [],
   "source": [
    "# Now we will drop the County sum and Combined_Key sum because they \n",
    "# do not have numbers to add and we do not need the columns anymore.\n",
    "grouped_by_state = grouped_by_state.drop(1, 2)\n",
    "grouped_by_state"
   ]
  },
  {
   "cell_type": "markdown",
   "metadata": {},
   "source": [
    "<div class=\"alert alert-warning\">\n",
    "<b>Question:</b> Now that we have it grouped by state, let's first look at the number of cases in June so we can compare it to the percentages we will look at later.\n",
    "   </div>"
   ]
  },
  {
   "cell_type": "code",
   "execution_count": null,
   "metadata": {},
   "outputs": [],
   "source": [
    "# Run this cell to see the number of\n",
    "grouped_by_state.sort(\"June sum\", descending = True).take(np.arange(10)).barh(\"State\", \"June sum\")"
   ]
  },
  {
   "cell_type": "markdown",
   "metadata": {},
   "source": [
    "<div class=\"alert alert-warning\">\n",
    "<b>Question:</b> Now, join this table with the pop_by_state table by running the following cell.\n",
    "   </div>"
   ]
  },
  {
   "cell_type": "code",
   "execution_count": null,
   "metadata": {
    "scrolled": true
   },
   "outputs": [],
   "source": [
    "# We are going to join the two tables by providing the column they share which is \"State\".\n",
    "with_pop = grouped_by_state.join(\"State\", pop_by_state)\n",
    "with_pop"
   ]
  },
  {
   "cell_type": "markdown",
   "metadata": {},
   "source": [
    "<div class=\"alert alert-warning\">\n",
    "<b>Question:</b> Add a column called \"Percentage\" that has the number of cases collected in June divided by the population.\n",
    "   </div>"
   ]
  },
  {
   "cell_type": "code",
   "execution_count": null,
   "metadata": {
    "collapsed": true,
    "scrolled": true
   },
   "outputs": [],
   "source": [
    "# First, we want to find the columns that would make up an array of the percentages.\n",
    "june_cases = with_pop.column(\"6/1/2020 sum\")\n",
    "population = ...\n",
    "percentage = (.../...)*100\n",
    "percentage"
   ]
  },
  {
   "cell_type": "code",
   "execution_count": null,
   "metadata": {
    "collapsed": true
   },
   "outputs": [],
   "source": [
    "with_pct = with_pop.with_column(\"...\", ...)\n",
    "with_pct"
   ]
  },
  {
   "cell_type": "markdown",
   "metadata": {},
   "source": [
    "<div class=\"alert alert-warning\">\n",
    "<b>Question:</b> Like we did in the previous section, sort with_pct and include the top ten states with the most cases on June 1st. Then, create a bar chart to compare the states with the highest percentages of cases.\n",
    "   </div>"
   ]
  },
  {
   "cell_type": "code",
   "execution_count": null,
   "metadata": {
    "collapsed": true
   },
   "outputs": [],
   "source": [
    "top_ten_pct = ..."
   ]
  },
  {
   "cell_type": "code",
   "execution_count": null,
   "metadata": {
    "collapsed": true
   },
   "outputs": [],
   "source": [
    "# fill in the code to make the bar chart looking at the States and their Percentages.\n",
    "..."
   ]
  },
  {
   "cell_type": "markdown",
   "metadata": {},
   "source": [
    "<div class=\"alert alert-warning\">\n",
    "<b>Question:</b> What differences do you see from the bar chart of the states when we just saw the number of cases? Give some possible reasons for the differences.\n",
    "   </div>"
   ]
  },
  {
   "cell_type": "markdown",
   "metadata": {},
   "source": [
    "*Insert answer here.*"
   ]
  },
  {
   "cell_type": "markdown",
   "metadata": {},
   "source": [
    "<div class=\"alert alert-warning\">\n",
    "<b>Question:</b> Tell us something interesting about this data.\n",
    "   </div>"
   ]
  },
  {
   "cell_type": "markdown",
   "metadata": {},
   "source": [
    "*Insert answer here.*"
   ]
  },
  {
   "cell_type": "markdown",
   "metadata": {},
   "source": [
    "## Using prediction and inference to draw conclusions <a id='subsection 1a'></a>"
   ]
  },
  {
   "cell_type": "markdown",
   "metadata": {},
   "source": [
    "Now that we have some experience making these visualizations, let's go back to exponential growth. We know that, without intervention, a disease can behave like a rumor and spread at an alarming rate. From the previous section, we also know that we need to take into account the population of the region when looking at the number of cases."
   ]
  },
  {
   "cell_type": "markdown",
   "metadata": {},
   "source": [
    "Now we will read in two tables: Covid by State and Population by state in order to look at the percentage of the cases. And the growth of confirmed cases overtime."
   ]
  },
  {
   "cell_type": "code",
   "execution_count": null,
   "metadata": {
    "scrolled": false
   },
   "outputs": [],
   "source": [
    "covid_by_state = Table().read_table(\"data/covid_by_state.csv\")\n",
    "covid_by_state.show(5)"
   ]
  },
  {
   "cell_type": "markdown",
   "metadata": {},
   "source": [
    "Here we have provided the code for a line plot. You can select 2 different states, and compare their confirmed cases overtime."
   ]
  },
  {
   "cell_type": "code",
   "execution_count": null,
   "metadata": {},
   "outputs": [],
   "source": [
    "# run this cell to get a line plot!\n",
    "def plot_states(state_1, state_2):\n",
    "    covid_by_state.select(0, state_1, state_2).plot(0)\n",
    "interact(plot_states, \n",
    "         state_1=Dropdown(options=covid_by_state.labels[1:]), \n",
    "         state_2=Dropdown(options=covid_by_state.labels[1:]));"
   ]
  },
  {
   "cell_type": "markdown",
   "metadata": {},
   "source": [
    "## Tell a story"
   ]
  },
  {
   "cell_type": "markdown",
   "metadata": {},
   "source": [
    "Choose 2 different states and create a line plot to show how the number of cases changed overtime. Tell us a story about what the plot tells you. Tell us something intersting about this data? Explain it using your knowledge and other sources.\n",
    "\n",
    "Some questions to keep in mind:\n",
    "- Why did you choose these 2 states?\n",
    "- What have you heard about these states in the news?\n",
    "- How do they differ over time?\n",
    "- What are some reasons for the differences?\n",
    "- What affects the number of confirmed cases in an area?\n",
    "- How are the trends similar between the 2 states?"
   ]
  },
  {
   "cell_type": "markdown",
   "metadata": {},
   "source": [
    "Source: How Math (and Vaccines) Keep You Safe From the Flu by Patrick Honner (Quanta Magazine)\n",
    "Notebook Authors: Alleanna Clark, Ashley Quiterio, Karla Palos Castellanos"
   ]
  }
 ],
 "metadata": {
  "kernelspec": {
   "display_name": "Python 3",
   "language": "python",
   "name": "python3"
  },
  "language_info": {
   "codemirror_mode": {
    "name": "ipython",
    "version": 3
   },
   "file_extension": ".py",
   "mimetype": "text/x-python",
   "name": "python",
   "nbconvert_exporter": "python",
   "pygments_lexer": "ipython3",
   "version": "3.6.8"
  }
 },
 "nbformat": 4,
 "nbformat_minor": 4
}
