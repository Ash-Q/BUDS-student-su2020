{
 "cells": [
  {
   "cell_type": "markdown",
   "metadata": {},
   "source": [
    "# Tuesday - EPA"
   ]
  },
  {
   "cell_type": "code",
   "execution_count": null,
   "metadata": {
    "collapsed": true
   },
   "outputs": [],
   "source": [
    "# RUN THIS CELL or the notebook will not work properly\n",
    "from datascience import *\n",
    "import numpy as np"
   ]
  },
  {
   "cell_type": "markdown",
   "metadata": {},
   "source": [
    "### Mapping\n",
    "A really cool part of data science is the ability to utilize maps to visualize \n",
    "We made a map of Alameda County using Environmental Protection Agency’s EJView website: https://ejscreen.epa.gov/mapper/"
   ]
  },
  {
   "cell_type": "markdown",
   "metadata": {},
   "source": [
    "#### Interpreting the map\n",
    "The darker part of the map have higher minority populations according to the 2010 Census. Toxic chemical releases and waste management activities are recorded and inputted into a database (a description can be found here: https://geopub.epa.gov/arcgis/rest/services/EMEF/efpoints/MapServer/1). \n",
    "\n",
    "The light blue squares represent the toxic release inventory (TRI) data provided by the EPA. \n",
    "\n",
    "**What are some things you notice about the Alameda map and the location of the blue squares?**"
   ]
  },
  {
   "cell_type": "markdown",
   "metadata": {},
   "source": [
    "YOUR ANSWER HERE"
   ]
  },
  {
   "cell_type": "markdown",
   "metadata": {},
   "source": [
    "\n",
    "**Alameda County Map**\n",
    "![Map1](map.png) \n"
   ]
  },
  {
   "cell_type": "markdown",
   "metadata": {},
   "source": [
    "|Column    | Definition|\n",
    "|---------------|-------------------|\n",
    "| zipcode       | The zip code of the industrial facility (Integer)                                                             \n",
    "| releases      | Toxicity-weighted pounds of chemicals released to air or water from all TRI facilities within a one kilometer radius of the zip code (Integer)|\n",
    "| below_poverty | Number of people below the poverty line (Integer)|\n",
    "| above_poverty | Number of people above the poverty line (Integer)|"
   ]
  },
  {
   "cell_type": "code",
   "execution_count": null,
   "metadata": {},
   "outputs": [],
   "source": [
    "# read in data\n",
    "data = Table.read_table('data/TRI_data.csv')\n",
    "data"
   ]
  },
  {
   "cell_type": "markdown",
   "metadata": {},
   "source": [
    "Citations: E-157AC module developed by Wendy Hua, Karla Palos Castellanos, Jinsu Elhance, Professor: Khalid Kadir\n",
    "\n",
    "https://github.com/ds-modules/E-157AC"
   ]
  }
 ],
 "metadata": {
  "kernelspec": {
   "display_name": "Python 3",
   "language": "python",
   "name": "python3"
  },
  "language_info": {
   "codemirror_mode": {
    "name": "ipython",
    "version": 3
   },
   "file_extension": ".py",
   "mimetype": "text/x-python",
   "name": "python",
   "nbconvert_exporter": "python",
   "pygments_lexer": "ipython3",
   "version": "3.6.8"
  }
 },
 "nbformat": 4,
 "nbformat_minor": 2
}
