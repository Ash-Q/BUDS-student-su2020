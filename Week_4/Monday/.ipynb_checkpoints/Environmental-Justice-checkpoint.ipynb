{
 "cells": [
  {
   "cell_type": "markdown",
   "metadata": {},
   "source": [
    "# Monday - Environmental Justice!"
   ]
  },
  {
   "cell_type": "code",
   "execution_count": null,
   "metadata": {},
   "outputs": [],
   "source": [
    "# These are tools we will use later. Just run the cell.\n",
    "import numpy as np\n",
    "import matplotlib.pyplot as plots\n",
    "from datascience import *\n",
    "import statsmodels.formula.api as sm\n",
    "# import correlation as c\n",
    "%matplotlib inline \n",
    "%run functions.ipynb\n",
    "plots.style.use(\"fivethirtyeight\")"
   ]
  },
  {
   "cell_type": "markdown",
   "metadata": {},
   "source": [
    "## 1. Correlation\n",
    "\n",
    "Correlation is used to test relationships between quantitative variables or categorical variables. In other words, it’s a measure of how things are related. The study of how variables are correlated is called correlation analysis.\n",
    "\n",
    "Some examples of data that have a high correlation:\n",
    "\n",
    "    Your caloric intake vs. your weight.\n",
    "    Your eye color vs. your relatives’ eye colors.\n",
    "    The amount of time you study vs. your GPA.\n",
    "    Alcohol consumed vs. your blood alcohol content.\n",
    "\n",
    "Some examples of data that have a low correlation (or none at all):\n",
    "\n",
    "    Your sexual preference vs. the type of cereal you eat.\n",
    "    A dog’s name vs. the type of dog biscuit they prefer.\n",
    "    The cost of a car wash vs. how long it takes to buy a soda inside the station.\n",
    "\n",
    "Correlations are useful because if you can find out what relationship variables have, you can make predictions about future behavior. Knowing what the future holds is very important in the social sciences like government and healthcare.\n",
    "\n",
    "You make decisions based on relationships of two events all the time: if it's 2pm on a Thursday of Deadweek, you predict the number of seats avaiable in Moffitt Floor 5 would be close to none and would think twice about trying your luck there. As simple as this is, this is correlation and prediction at work: time of semester vs. the number of seats available in Moffitt Floor 5. This is exacltly what we are going in this lecture -- **the correlation coefficient simply assigns a number to the *type* and *strength* of a relationship between two events**."
   ]
  },
  {
   "cell_type": "markdown",
   "metadata": {},
   "source": [
    "The **correlation coefficient** ( r ) puts a value to the relationship and shows how strong it is. The value is between -1 and 1 where 0 is no relationship, -1 is a perfect negative relationship, and 1 is a perfect positive relationship. Correlation is also necessary for regression (which we will get to later)."
   ]
  },
  {
   "cell_type": "markdown",
   "metadata": {},
   "source": [
    "![image](images/correlation-examples.svg)"
   ]
  },
  {
   "cell_type": "markdown",
   "metadata": {},
   "source": [
    "If we wanted to look at the relationship between two of the variables in our dataset, we could calculate the correlation. For example, asking how race is related to a particular health factor, such as asthma."
   ]
  },
  {
   "cell_type": "markdown",
   "metadata": {},
   "source": [
    "### The Data\n",
    "\n",
    "We will be using data from the website of the Office of Environmental Health Hazard Assessment. The file includes environmental and population data across different counties of California. In order to analyze the data, we must first import it to our Jupyter notebook and create a table. We will call this table `ces_data`."
   ]
  },
  {
   "cell_type": "code",
   "execution_count": null,
   "metadata": {
    "scrolled": true
   },
   "outputs": [],
   "source": [
    "ces_data = Table.read_table(\"data/ces_data.csv\")\n",
    "ces_data.take(np.arange(40,50))"
   ]
  },
  {
   "cell_type": "markdown",
   "metadata": {},
   "source": [
    "Notice that a lot of the entries in the Pesticides column above are 0's. When dealing with large datasets, we will often encounter **missing** values. We've talked about this in Project 1. These values are simply empty values that appear when we do not have a value available for a particular record. It is important to clean these meaningless values to carry out analysis of the dataset. Much of data science consists of **cleaning data** which includes **renaming columns**, **reducing the table size to include only the columns of interest**, and **removing missing values**.  There are various methods of dealing with missing values -- for our purposes, it is safe to simply remove these values from our table. \n",
    "\n",
    "**We have done this for you**: simply run the cell below to save a clean version of the data as `clean_ces_data`. From this point forward, we'll use this cleaned CES data to run our analysis."
   ]
  },
  {
   "cell_type": "code",
   "execution_count": null,
   "metadata": {
    "scrolled": true
   },
   "outputs": [],
   "source": [
    "clean_ces_data = Table.read_table(\"data/cleaned_data_new.csv\")\n",
    "clean_ces_data.show(5)"
   ]
  },
  {
   "cell_type": "markdown",
   "metadata": {},
   "source": [
    "This scatter plot shows the relationship between the pollution score and asthma. Refer back to the image above the data."
   ]
  },
  {
   "cell_type": "code",
   "execution_count": null,
   "metadata": {
    "scrolled": true
   },
   "outputs": [],
   "source": [
    "clean_ces_data.scatter(\"ces_pollution_score\", \"asthma\", alpha = .18, s = 10)"
   ]
  },
  {
   "cell_type": "markdown",
   "metadata": {},
   "source": [
    "#### Based on this scatter plot, what do you think the r-value is?\n",
    "In other words, about how closely are pollution and asthma related? Compare this graph with the charts above to help you identify the **type** (Positive? Negative?) and **strength** (value) of the relationship."
   ]
  },
  {
   "cell_type": "markdown",
   "metadata": {},
   "source": [
    "*Your Guess Here*"
   ]
  },
  {
   "cell_type": "markdown",
   "metadata": {},
   "source": [
    "#### Correlation Function!\n",
    "\n",
    "To see how well your guess matches the actual r-value, we can use the `correlation` function defined below. "
   ]
  },
  {
   "cell_type": "code",
   "execution_count": null,
   "metadata": {},
   "outputs": [],
   "source": [
    "#Run me to find the actual correlation coefficient!\n",
    "correlation(clean_ces_data, 'ces_pollution_score', 'asthma')"
   ]
  },
  {
   "cell_type": "markdown",
   "metadata": {},
   "source": [
    "It's certainly not perfect -- if you are given a pollution score, you can't say that the number of reported asthma attacks **will definitely** be \\_\\_. However, you can see (both from the plot and from the calculated r-value) that there is a positive relationship between a census tract's pollution score and the number of reported asthma attacks."
   ]
  },
  {
   "cell_type": "markdown",
   "metadata": {},
   "source": [
    "\n",
    "---\n",
    "\n",
    "## Your Turn!\n",
    "\n",
    "In previous example, we explored the relationship between an environmental outcome and a health issue. Now let's look at how this health issue compares with a certain demographic."
   ]
  },
  {
   "cell_type": "code",
   "execution_count": null,
   "metadata": {},
   "outputs": [],
   "source": [
    "# This will find the correlation coefficient between African Americans and Asthma.\n",
    "print('r: ', correlation(clean_ces_data, 'african_american', 'asthma'))\n",
    "clean_ces_data.scatter(\"african_american\", \"asthma\", alpha = .18, s = 10)"
   ]
  },
  {
   "cell_type": "markdown",
   "metadata": {},
   "source": [
    "`r:  0.4986847676603604`"
   ]
  },
  {
   "cell_type": "markdown",
   "metadata": {},
   "source": [
    "Since our r-value is low (far from 1) it shows us that we need to conduct more analysis because a single variable is not sufficient to predict asthma. Usually, there are multiple factors that affect an outcome so it makes sense that we need to do more than a simple analysis. Choose factors you want to see the relationship of and enter them in the call below!"
   ]
  },
  {
   "cell_type": "code",
   "execution_count": null,
   "metadata": {},
   "outputs": [],
   "source": [
    "#Replace the ... with the columns you want to look at.\n",
    "print('r: ', correlation(clean_ces_data, '...', '...'))\n",
    "clean_ces_data.scatter(\"african_american\", \"asthma\", alpha = .18, s = 10)"
   ]
  },
  {
   "cell_type": "markdown",
   "metadata": {},
   "source": [
    "---\n",
    "\n",
    "**CONGRATULATIONS!!!** You've made it through an introduction to correlation! \n",
    "\n",
    "---\n",
    "\n",
    "**Citation:**\n",
    "\n",
    "- [DS Modules](https://github.com/ds-modules)\n",
    "- Online Statistics Education: A Multimedia Course of Study (http://onlinestatbook.com/)\n",
    "- Pierce, Rod. \"Correlation\" Math Is Fun. Ed. Rod Pierce. 5 Nov 2018. 16 Feb 2019 <http://www.mathsisfun.com/data/correlation.html>\n",
    "\n",
    "*Notebook developed by: Aarish Irfan, Alleanna Clark & Keiko Kamei*"
   ]
  }
 ],
 "metadata": {
  "kernelspec": {
   "display_name": "Python 3",
   "language": "python",
   "name": "python3"
  },
  "language_info": {
   "codemirror_mode": {
    "name": "ipython",
    "version": 3
   },
   "file_extension": ".py",
   "mimetype": "text/x-python",
   "name": "python",
   "nbconvert_exporter": "python",
   "pygments_lexer": "ipython3",
   "version": "3.6.8"
  }
 },
 "nbformat": 4,
 "nbformat_minor": 2
}
